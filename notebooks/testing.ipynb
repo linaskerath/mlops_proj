{
 "cells": [
  {
   "cell_type": "code",
   "execution_count": 13,
   "metadata": {},
   "outputs": [],
   "source": [
    "import torch\n",
    "from torch.utils.data import TensorDataset"
   ]
  },
  {
   "cell_type": "code",
   "execution_count": 17,
   "metadata": {},
   "outputs": [],
   "source": [
    "def standardize_data():\n",
    "    \"\"\"Load data, process into a single tensor, normalize and save to processed folder\"\"\"\n",
    "    # Load:\n",
    "    num_parts = 5\n",
    "    trainsets, traintargets = [], []\n",
    "\n",
    "    for i in range(num_parts):\n",
    "        trainset_part = torch.load(f\"../data/raw/corruptmnist/train_images_{i}.pt\")\n",
    "        traintarget_part = torch.load(f\"../data/raw/corruptmnist/train_target_{i}.pt\")\n",
    "        trainsets.append(trainset_part)\n",
    "        traintargets.append(traintarget_part)\n",
    "    testset = torch.load(\"../data/raw/corruptmnist/test_images.pt\")\n",
    "    testtarget = torch.load(\"../data/raw/corruptmnist/test_target.pt\")\n",
    "\n",
    "    trainset = TensorDataset(torch.cat(trainsets), torch.cat(traintargets))\n",
    "    testset = TensorDataset(testset, testtarget)\n",
    "    return trainset, testset"
   ]
  },
  {
   "cell_type": "code",
   "execution_count": 18,
   "metadata": {},
   "outputs": [],
   "source": [
    "trainset, testset = standardize_data()"
   ]
  },
  {
   "cell_type": "code",
   "execution_count": 19,
   "metadata": {},
   "outputs": [
    {
     "data": {
      "text/plain": [
       "<torch.utils.data.dataset.TensorDataset at 0x7fa344fd81f0>"
      ]
     },
     "execution_count": 19,
     "metadata": {},
     "output_type": "execute_result"
    }
   ],
   "source": [
    "trainset"
   ]
  },
  {
   "cell_type": "code",
   "execution_count": 26,
   "metadata": {},
   "outputs": [],
   "source": [
    "from torchvision import transforms"
   ]
  },
  {
   "cell_type": "code",
   "execution_count": 29,
   "metadata": {},
   "outputs": [],
   "source": [
    "# # Normalize:\n",
    "# transform = transforms.Compose([\n",
    "#     transforms.ToTensor(),\n",
    "#     transforms.Normalize(mean=(0.5,), std=(0.5,))\n",
    "# ])\n",
    "\n",
    "# # trainset = [(transform(image), label) for image, label in trainset]\n",
    "# # testset = [(transform(image), label) for image, label in testset]\n",
    "\n",
    "# # Apply normalization to the images within the datasets\n",
    "# trainset = TensorDataset(\n",
    "#     torch.stack([transform(image) for image in trainset.tensors[0]]),\n",
    "#     trainset.tensors[1]\n",
    "# )\n",
    "# testset = TensorDataset(\n",
    "#     torch.stack([transform(image) for image in testset.tensors[0]]),\n",
    "#     testset.tensors[1]\n",
    "#     )\n",
    "\n",
    "# Normalize:\n",
    "transform = transforms.Normalize(mean=(0.5,), std=(0.5,))\n",
    "\n",
    "# Apply normalization to the images within the datasets\n",
    "trainset = TensorDataset(\n",
    "    transform(trainset.tensors[0]),  # Apply normalization to the whole tensor\n",
    "    trainset.tensors[1]\n",
    ")\n",
    "testset = TensorDataset(\n",
    "    transform(testset.tensors[0]),  # Apply normalization to the whole tensor\n",
    "    testset.tensors[1]\n",
    ")\n"
   ]
  },
  {
   "cell_type": "code",
   "execution_count": 30,
   "metadata": {},
   "outputs": [
    {
     "data": {
      "text/plain": [
       "<torch.utils.data.dataset.TensorDataset at 0x7fa3298ad750>"
      ]
     },
     "execution_count": 30,
     "metadata": {},
     "output_type": "execute_result"
    }
   ],
   "source": [
    "trainset"
   ]
  },
  {
   "cell_type": "code",
   "execution_count": null,
   "metadata": {},
   "outputs": [],
   "source": []
  }
 ],
 "metadata": {
  "kernelspec": {
   "display_name": "mlops_proj",
   "language": "python",
   "name": "python3"
  },
  "language_info": {
   "codemirror_mode": {
    "name": "ipython",
    "version": 3
   },
   "file_extension": ".py",
   "mimetype": "text/x-python",
   "name": "python",
   "nbconvert_exporter": "python",
   "pygments_lexer": "ipython3",
   "version": "3.10.13"
  }
 },
 "nbformat": 4,
 "nbformat_minor": 2
}
